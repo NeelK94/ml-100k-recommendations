{
 "cells": [
  {
   "cell_type": "code",
   "execution_count": 1,
   "id": "c06d8a6e-80bb-4f09-82fb-81bcae5005a5",
   "metadata": {},
   "outputs": [],
   "source": [
    "import os\n",
    "import random\n",
    "import joblib             # pip install joblib (optional, used to save encoders)\n",
    "import pandas as pd\n",
    "import numpy as np\n",
    "import torch\n",
    "import torch.nn as nn\n",
    "import torch.optim as optim\n",
    "from torch.utils.data import Dataset, DataLoader\n",
    "from sklearn import preprocessing\n",
    "from sklearn.model_selection import train_test_split"
   ]
  },
  {
   "cell_type": "code",
   "execution_count": 2,
   "id": "9d13e400-9c88-4e1e-ae4d-43761b78bcdc",
   "metadata": {},
   "outputs": [
    {
     "name": "stdout",
     "output_type": "stream",
     "text": [
      "Using mps device\n"
     ]
    }
   ],
   "source": [
    "device = torch.accelerator.current_accelerator().type if torch.accelerator.is_available() else \"cpu\"\n",
    "print(f\"Using {device} device\")"
   ]
  },
  {
   "cell_type": "markdown",
   "id": "fa3a8c42-b51a-42a7-8450-f03e2109f33b",
   "metadata": {},
   "source": [
    "### Load raw datasets and prepare as dataframes"
   ]
  },
  {
   "cell_type": "code",
   "execution_count": 3,
   "id": "b62e1dc5-5bf1-4642-b0ea-9cba6c001349",
   "metadata": {},
   "outputs": [],
   "source": [
    "#data_source = 'small'\n",
    "data_source = 'full'\n",
    "\n",
    "if data_source == 'small':\n",
    "    root = \"../data/raw/ml-latest-small/\"\n",
    "else:\n",
    "    root = \"../data/raw/ml-latest/\"\n"
   ]
  },
  {
   "cell_type": "code",
   "execution_count": 4,
   "id": "ea1cdf09-43c2-4d4c-b547-d6a7a9b59a3d",
   "metadata": {},
   "outputs": [
    {
     "data": {
      "text/html": [
       "<div>\n",
       "<style scoped>\n",
       "    .dataframe tbody tr th:only-of-type {\n",
       "        vertical-align: middle;\n",
       "    }\n",
       "\n",
       "    .dataframe tbody tr th {\n",
       "        vertical-align: top;\n",
       "    }\n",
       "\n",
       "    .dataframe thead th {\n",
       "        text-align: right;\n",
       "    }\n",
       "</style>\n",
       "<table border=\"1\" class=\"dataframe\">\n",
       "  <thead>\n",
       "    <tr style=\"text-align: right;\">\n",
       "      <th></th>\n",
       "      <th>userId</th>\n",
       "      <th>movieId</th>\n",
       "      <th>rating</th>\n",
       "      <th>timestamp</th>\n",
       "    </tr>\n",
       "  </thead>\n",
       "  <tbody>\n",
       "    <tr>\n",
       "      <th>0</th>\n",
       "      <td>1</td>\n",
       "      <td>1</td>\n",
       "      <td>4.0</td>\n",
       "      <td>1225734739</td>\n",
       "    </tr>\n",
       "    <tr>\n",
       "      <th>1</th>\n",
       "      <td>1</td>\n",
       "      <td>110</td>\n",
       "      <td>4.0</td>\n",
       "      <td>1225865086</td>\n",
       "    </tr>\n",
       "    <tr>\n",
       "      <th>2</th>\n",
       "      <td>1</td>\n",
       "      <td>158</td>\n",
       "      <td>4.0</td>\n",
       "      <td>1225733503</td>\n",
       "    </tr>\n",
       "    <tr>\n",
       "      <th>3</th>\n",
       "      <td>1</td>\n",
       "      <td>260</td>\n",
       "      <td>4.5</td>\n",
       "      <td>1225735204</td>\n",
       "    </tr>\n",
       "    <tr>\n",
       "      <th>4</th>\n",
       "      <td>1</td>\n",
       "      <td>356</td>\n",
       "      <td>5.0</td>\n",
       "      <td>1225735119</td>\n",
       "    </tr>\n",
       "  </tbody>\n",
       "</table>\n",
       "</div>"
      ],
      "text/plain": [
       "   userId  movieId  rating   timestamp\n",
       "0       1        1     4.0  1225734739\n",
       "1       1      110     4.0  1225865086\n",
       "2       1      158     4.0  1225733503\n",
       "3       1      260     4.5  1225735204\n",
       "4       1      356     5.0  1225735119"
      ]
     },
     "execution_count": 4,
     "metadata": {},
     "output_type": "execute_result"
    }
   ],
   "source": [
    "ratings_df = pd.read_csv(f\"{root}ratings.csv\")\n",
    "ratings_df.head()"
   ]
  },
  {
   "cell_type": "code",
   "execution_count": 5,
   "id": "4c123043-cc13-4cf6-9937-0dd2a517a5b6",
   "metadata": {},
   "outputs": [
    {
     "data": {
      "text/html": [
       "<div>\n",
       "<style scoped>\n",
       "    .dataframe tbody tr th:only-of-type {\n",
       "        vertical-align: middle;\n",
       "    }\n",
       "\n",
       "    .dataframe tbody tr th {\n",
       "        vertical-align: top;\n",
       "    }\n",
       "\n",
       "    .dataframe thead th {\n",
       "        text-align: right;\n",
       "    }\n",
       "</style>\n",
       "<table border=\"1\" class=\"dataframe\">\n",
       "  <thead>\n",
       "    <tr style=\"text-align: right;\">\n",
       "      <th></th>\n",
       "      <th>movieId</th>\n",
       "      <th>title</th>\n",
       "      <th>genres</th>\n",
       "    </tr>\n",
       "  </thead>\n",
       "  <tbody>\n",
       "    <tr>\n",
       "      <th>0</th>\n",
       "      <td>1</td>\n",
       "      <td>Toy Story (1995)</td>\n",
       "      <td>Adventure|Animation|Children|Comedy|Fantasy</td>\n",
       "    </tr>\n",
       "    <tr>\n",
       "      <th>1</th>\n",
       "      <td>2</td>\n",
       "      <td>Jumanji (1995)</td>\n",
       "      <td>Adventure|Children|Fantasy</td>\n",
       "    </tr>\n",
       "    <tr>\n",
       "      <th>2</th>\n",
       "      <td>3</td>\n",
       "      <td>Grumpier Old Men (1995)</td>\n",
       "      <td>Comedy|Romance</td>\n",
       "    </tr>\n",
       "    <tr>\n",
       "      <th>3</th>\n",
       "      <td>4</td>\n",
       "      <td>Waiting to Exhale (1995)</td>\n",
       "      <td>Comedy|Drama|Romance</td>\n",
       "    </tr>\n",
       "    <tr>\n",
       "      <th>4</th>\n",
       "      <td>5</td>\n",
       "      <td>Father of the Bride Part II (1995)</td>\n",
       "      <td>Comedy</td>\n",
       "    </tr>\n",
       "  </tbody>\n",
       "</table>\n",
       "</div>"
      ],
      "text/plain": [
       "   movieId                               title  \\\n",
       "0        1                    Toy Story (1995)   \n",
       "1        2                      Jumanji (1995)   \n",
       "2        3             Grumpier Old Men (1995)   \n",
       "3        4            Waiting to Exhale (1995)   \n",
       "4        5  Father of the Bride Part II (1995)   \n",
       "\n",
       "                                        genres  \n",
       "0  Adventure|Animation|Children|Comedy|Fantasy  \n",
       "1                   Adventure|Children|Fantasy  \n",
       "2                               Comedy|Romance  \n",
       "3                         Comedy|Drama|Romance  \n",
       "4                                       Comedy  "
      ]
     },
     "execution_count": 5,
     "metadata": {},
     "output_type": "execute_result"
    }
   ],
   "source": [
    "movies_df = pd.read_csv(f\"{root}movies.csv\")\n",
    "movies_df.head()"
   ]
  },
  {
   "cell_type": "code",
   "execution_count": 6,
   "id": "d9b78977-2cac-4197-b0e9-38944d2e2200",
   "metadata": {},
   "outputs": [
    {
     "data": {
      "text/html": [
       "<div>\n",
       "<style scoped>\n",
       "    .dataframe tbody tr th:only-of-type {\n",
       "        vertical-align: middle;\n",
       "    }\n",
       "\n",
       "    .dataframe tbody tr th {\n",
       "        vertical-align: top;\n",
       "    }\n",
       "\n",
       "    .dataframe thead th {\n",
       "        text-align: right;\n",
       "    }\n",
       "</style>\n",
       "<table border=\"1\" class=\"dataframe\">\n",
       "  <thead>\n",
       "    <tr style=\"text-align: right;\">\n",
       "      <th></th>\n",
       "      <th>userId</th>\n",
       "      <th>movieId</th>\n",
       "      <th>tag</th>\n",
       "      <th>timestamp</th>\n",
       "    </tr>\n",
       "  </thead>\n",
       "  <tbody>\n",
       "    <tr>\n",
       "      <th>0</th>\n",
       "      <td>10</td>\n",
       "      <td>260</td>\n",
       "      <td>good vs evil</td>\n",
       "      <td>1430666558</td>\n",
       "    </tr>\n",
       "    <tr>\n",
       "      <th>1</th>\n",
       "      <td>10</td>\n",
       "      <td>260</td>\n",
       "      <td>Harrison Ford</td>\n",
       "      <td>1430666505</td>\n",
       "    </tr>\n",
       "    <tr>\n",
       "      <th>2</th>\n",
       "      <td>10</td>\n",
       "      <td>260</td>\n",
       "      <td>sci-fi</td>\n",
       "      <td>1430666538</td>\n",
       "    </tr>\n",
       "    <tr>\n",
       "      <th>3</th>\n",
       "      <td>14</td>\n",
       "      <td>1221</td>\n",
       "      <td>Al Pacino</td>\n",
       "      <td>1311600756</td>\n",
       "    </tr>\n",
       "    <tr>\n",
       "      <th>4</th>\n",
       "      <td>14</td>\n",
       "      <td>1221</td>\n",
       "      <td>mafia</td>\n",
       "      <td>1311600746</td>\n",
       "    </tr>\n",
       "  </tbody>\n",
       "</table>\n",
       "</div>"
      ],
      "text/plain": [
       "   userId  movieId            tag   timestamp\n",
       "0      10      260   good vs evil  1430666558\n",
       "1      10      260  Harrison Ford  1430666505\n",
       "2      10      260         sci-fi  1430666538\n",
       "3      14     1221      Al Pacino  1311600756\n",
       "4      14     1221          mafia  1311600746"
      ]
     },
     "execution_count": 6,
     "metadata": {},
     "output_type": "execute_result"
    }
   ],
   "source": [
    "tags_df = pd.read_csv(f\"{root}tags.csv\")\n",
    "tags_df.head()"
   ]
  },
  {
   "cell_type": "code",
   "execution_count": 7,
   "id": "53f5f459-76ec-4468-81e9-e33cec5b1cdb",
   "metadata": {},
   "outputs": [],
   "source": [
    "tags_df = tags_df[['movieId', 'tag']]"
   ]
  },
  {
   "cell_type": "code",
   "execution_count": 8,
   "id": "f46701c5-0cf7-40c0-b211-5e8b061a7681",
   "metadata": {},
   "outputs": [],
   "source": [
    "tags_df[\"tag\"] = (\n",
    "    tags_df[\"tag\"]\n",
    "    .astype(str)\n",
    "    .str.lower()\n",
    "    .str.strip()\n",
    ")\n"
   ]
  },
  {
   "cell_type": "code",
   "execution_count": 9,
   "id": "3ee6d274-9f9b-433e-8678-8cacdecd6cb9",
   "metadata": {},
   "outputs": [],
   "source": [
    "tags_df = tags_df.dropna(subset=[\"tag\"])\n",
    "tags_df = tags_df.drop_duplicates()\n"
   ]
  },
  {
   "cell_type": "code",
   "execution_count": 10,
   "id": "e375e33d-9004-4436-b3c9-d19e07ed7306",
   "metadata": {},
   "outputs": [
    {
     "data": {
      "text/plain": [
       "143264"
      ]
     },
     "execution_count": 10,
     "metadata": {},
     "output_type": "execute_result"
    }
   ],
   "source": [
    "len(set(tags_df['tag']))"
   ]
  },
  {
   "cell_type": "code",
   "execution_count": 11,
   "id": "bbb980bf-541f-4ce7-ae6e-6026031c15c8",
   "metadata": {},
   "outputs": [],
   "source": [
    "movie_tags = (\n",
    "    tags_df.groupby(\"movieId\")[\"tag\"]\n",
    "    .unique()\n",
    "    .reset_index()\n",
    ")\n",
    "\n",
    "movie_tags[\"tags\"] = movie_tags[\"tag\"].apply(lambda x: \" \".join(x))\n",
    "movie_tags = movie_tags.drop(columns=[\"tag\"])\n"
   ]
  },
  {
   "cell_type": "code",
   "execution_count": 12,
   "id": "b015958c-cd22-4308-bad0-e6677606fd9e",
   "metadata": {},
   "outputs": [
    {
     "data": {
      "text/html": [
       "<div>\n",
       "<style scoped>\n",
       "    .dataframe tbody tr th:only-of-type {\n",
       "        vertical-align: middle;\n",
       "    }\n",
       "\n",
       "    .dataframe tbody tr th {\n",
       "        vertical-align: top;\n",
       "    }\n",
       "\n",
       "    .dataframe thead th {\n",
       "        text-align: right;\n",
       "    }\n",
       "</style>\n",
       "<table border=\"1\" class=\"dataframe\">\n",
       "  <thead>\n",
       "    <tr style=\"text-align: right;\">\n",
       "      <th></th>\n",
       "      <th>movieId</th>\n",
       "      <th>tags</th>\n",
       "    </tr>\n",
       "  </thead>\n",
       "  <tbody>\n",
       "    <tr>\n",
       "      <th>0</th>\n",
       "      <td>1</td>\n",
       "      <td>animation friendship toys disney pixar cgi cla...</td>\n",
       "    </tr>\n",
       "    <tr>\n",
       "      <th>1</th>\n",
       "      <td>2</td>\n",
       "      <td>animals based on a book fantasy magic board ga...</td>\n",
       "    </tr>\n",
       "    <tr>\n",
       "      <th>2</th>\n",
       "      <td>3</td>\n",
       "      <td>sequel moldy old old age old men wedding old p...</td>\n",
       "    </tr>\n",
       "    <tr>\n",
       "      <th>3</th>\n",
       "      <td>4</td>\n",
       "      <td>characters chick flick girl movie revenge clv ...</td>\n",
       "    </tr>\n",
       "    <tr>\n",
       "      <th>4</th>\n",
       "      <td>5</td>\n",
       "      <td>family pregnancy wedding 4th wall aging baby d...</td>\n",
       "    </tr>\n",
       "    <tr>\n",
       "      <th>...</th>\n",
       "      <td>...</td>\n",
       "      <td>...</td>\n",
       "    </tr>\n",
       "    <tr>\n",
       "      <th>53447</th>\n",
       "      <td>288765</td>\n",
       "      <td>post-apocalyptic survival tw suicide apocalyps...</td>\n",
       "    </tr>\n",
       "    <tr>\n",
       "      <th>53448</th>\n",
       "      <td>288779</td>\n",
       "      <td>don camillo series</td>\n",
       "    </tr>\n",
       "    <tr>\n",
       "      <th>53449</th>\n",
       "      <td>288849</td>\n",
       "      <td>addiction animation short film</td>\n",
       "    </tr>\n",
       "    <tr>\n",
       "      <th>53450</th>\n",
       "      <td>288937</td>\n",
       "      <td>anime</td>\n",
       "    </tr>\n",
       "    <tr>\n",
       "      <th>53451</th>\n",
       "      <td>288955</td>\n",
       "      <td>catalan costa brava flatmate millennials slow ...</td>\n",
       "    </tr>\n",
       "  </tbody>\n",
       "</table>\n",
       "<p>53452 rows × 2 columns</p>\n",
       "</div>"
      ],
      "text/plain": [
       "       movieId                                               tags\n",
       "0            1  animation friendship toys disney pixar cgi cla...\n",
       "1            2  animals based on a book fantasy magic board ga...\n",
       "2            3  sequel moldy old old age old men wedding old p...\n",
       "3            4  characters chick flick girl movie revenge clv ...\n",
       "4            5  family pregnancy wedding 4th wall aging baby d...\n",
       "...        ...                                                ...\n",
       "53447   288765  post-apocalyptic survival tw suicide apocalyps...\n",
       "53448   288779                                 don camillo series\n",
       "53449   288849                     addiction animation short film\n",
       "53450   288937                                              anime\n",
       "53451   288955  catalan costa brava flatmate millennials slow ...\n",
       "\n",
       "[53452 rows x 2 columns]"
      ]
     },
     "execution_count": 12,
     "metadata": {},
     "output_type": "execute_result"
    }
   ],
   "source": [
    "movie_tags"
   ]
  },
  {
   "cell_type": "markdown",
   "id": "54ad929d-ee90-42de-a406-dc075c1ec2ae",
   "metadata": {},
   "source": [
    "### Prepare datasets for pytorch use"
   ]
  },
  {
   "cell_type": "code",
   "execution_count": 13,
   "id": "8dd38ae7-2a83-4b08-98b5-8db21e3ebce0",
   "metadata": {},
   "outputs": [],
   "source": [
    "# User encoding:\n",
    "user_encoder = preprocessing.LabelEncoder()\n",
    "\n",
    "ratings_df[\"user_idx\"] = user_encoder.fit_transform(ratings_df[\"userId\"])\n",
    "\n"
   ]
  },
  {
   "cell_type": "code",
   "execution_count": 14,
   "id": "1ca4527c-c744-40dc-83e6-0957b6361008",
   "metadata": {},
   "outputs": [
    {
     "name": "stdout",
     "output_type": "stream",
     "text": [
      "Memory used: 0.59 GB\n"
     ]
    }
   ],
   "source": [
    "import psutil\n",
    "process = psutil.Process()\n",
    "print(f\"Memory used: {process.memory_info().rss / 1024**3:.2f} GB\")\n"
   ]
  },
  {
   "cell_type": "code",
   "execution_count": 15,
   "id": "06025989-9ca0-4e58-90a5-0fad28437f3c",
   "metadata": {},
   "outputs": [],
   "source": [
    "# Movie encoding:\n",
    "movie_encoder = preprocessing.LabelEncoder()\n",
    "\n",
    "movies_df[\"movie_idx\"] = movie_encoder.fit_transform(movies_df[\"movieId\"]) # Start with the more comprehensive list (must include all possible) \n",
    "ratings_df[\"movie_idx\"] = movie_encoder.transform(ratings_df[\"movieId\"]) # We're just using an existing encoder, so use transform\n",
    "movie_tags[\"movie_idx\"] = movie_encoder.transform(movie_tags[\"movieId\"]) # We're just using an existing encoder, so use transform\n"
   ]
  },
  {
   "cell_type": "code",
   "execution_count": 16,
   "id": "6322ee18-96be-4cec-b899-c104c67a46d4",
   "metadata": {},
   "outputs": [
    {
     "data": {
      "text/plain": [
       "['../artifacts/label_encoders/movie_encoder.joblib']"
      ]
     },
     "execution_count": 16,
     "metadata": {},
     "output_type": "execute_result"
    }
   ],
   "source": [
    "joblib.dump(user_encoder, \"../artifacts/label_encoders/user_encoder.joblib\")\n",
    "joblib.dump(movie_encoder, \"../artifacts/label_encoders/movie_encoder.joblib\")"
   ]
  },
  {
   "cell_type": "code",
   "execution_count": 17,
   "id": "1524d2b9-754c-4688-98bf-b0ea4eab191b",
   "metadata": {},
   "outputs": [
    {
     "name": "stdout",
     "output_type": "stream",
     "text": [
      "Number of users: 330975\n",
      "Number of movies: 83239\n",
      "Number of ratings: 33832162\n",
      "Number of unique tags: 143264\n"
     ]
    }
   ],
   "source": [
    "num_users = ratings_df[\"user_idx\"].nunique()\n",
    "num_movies = ratings_df[\"movie_idx\"].nunique()\n",
    "num_ratings = len(ratings_df)\n",
    "num_tags = len(set(tags_df['tag']))\n",
    "\n",
    "print(f\"Number of users: {num_users}\")\n",
    "print(f\"Number of movies: {num_movies}\")\n",
    "print(f\"Number of ratings: {num_ratings}\")\n",
    "print(f\"Number of unique tags: {num_tags}\")\n",
    "\n",
    "\n"
   ]
  },
  {
   "cell_type": "code",
   "execution_count": 18,
   "id": "2776e43b-385e-4bef-b2b1-4fb1c1999bed",
   "metadata": {},
   "outputs": [],
   "source": [
    "# Merge tags data with movies\n",
    "movies_with_tags = movies_df.merge(movie_tags, on=\"movie_idx\", how=\"left\")\n",
    "movies_with_tags[\"tags\"] = movies_with_tags[\"tags\"].fillna(\"\")\n"
   ]
  },
  {
   "cell_type": "code",
   "execution_count": 19,
   "id": "e92ce28b-d357-4ac5-a640-955075357a94",
   "metadata": {},
   "outputs": [],
   "source": [
    "'''\n",
    "movie genres are pipe delimited, so I want to split these into dimensions\n",
    "'''\n",
    "# Split genres into lists\n",
    "movies_with_tags[\"genres\"] = movies_with_tags[\"genres\"].apply(lambda x: x.split(\"|\"))\n",
    "\n",
    "# Get all unique genres\n",
    "all_genres = sorted({g for sublist in movies_with_tags[\"genres\"] for g in sublist})\n",
    "\n",
    "# One-hot encode genres\n",
    "for g in all_genres:\n",
    "    movies_with_tags[g] = movies_with_tags[\"genres\"].apply(lambda x: int(g in x))\n",
    "\n"
   ]
  },
  {
   "cell_type": "code",
   "execution_count": 20,
   "id": "e570a614-a73f-461c-9e8d-d084547ba35c",
   "metadata": {},
   "outputs": [],
   "source": [
    "'''\n",
    "movie tags are more varied than genres - there are 1475 unique tags in this sample data.\n",
    "Rather than one-hot encoding, we want to process this using TF-IDF.\n",
    "This selects the top N words (to simplify) based on how often they occur, and how consistently they occur.\n",
    "'''\n",
    "from sklearn.feature_extraction.text import TfidfVectorizer\n",
    "\n",
    "tfidf = TfidfVectorizer(max_features=1000, stop_words='english')  # use top N tag words\n",
    "tfidf_matrix = tfidf.fit_transform(movies_with_tags[\"tags\"])\n",
    "tfidf_features = pd.DataFrame(\n",
    "    tfidf_matrix.toarray(), \n",
    "    columns=[f\"tag_{t}\" for t in tfidf.get_feature_names_out()]\n",
    ")\n"
   ]
  },
  {
   "cell_type": "code",
   "execution_count": 21,
   "id": "175cb72f-745d-44da-a3dc-a661e9558c2f",
   "metadata": {},
   "outputs": [
    {
     "data": {
      "text/plain": [
       "Index(['tag_01', 'tag_06', 'tag_10', 'tag_100', 'tag_11', 'tag_12', 'tag_13',\n",
       "       'tag_1940s', 'tag_1950s', 'tag_1960s',\n",
       "       ...\n",
       "       'tag_wound', 'tag_writer', 'tag_writing', 'tag_written', 'tag_year',\n",
       "       'tag_york', 'tag_young', 'tag_younger', 'tag_youth', 'tag_zombie'],\n",
       "      dtype='object', length=1000)"
      ]
     },
     "execution_count": 21,
     "metadata": {},
     "output_type": "execute_result"
    }
   ],
   "source": [
    "tfidf_features.columns"
   ]
  },
  {
   "cell_type": "code",
   "execution_count": 22,
   "id": "a331913f-c86d-4e26-861d-fb7bbabbef15",
   "metadata": {},
   "outputs": [],
   "source": [
    "movies_features = pd.concat(\n",
    "    [movies_with_tags.set_index(\"movie_idx\")[all_genres].reset_index(drop=True),\n",
    "     tfidf_features.reset_index(drop=True)],\n",
    "    axis=1\n",
    ")\n"
   ]
  },
  {
   "cell_type": "code",
   "execution_count": 23,
   "id": "ba317135-c127-423b-a344-4adbe8ae464d",
   "metadata": {},
   "outputs": [],
   "source": [
    "num_movie_features = movies_features.shape[1]"
   ]
  },
  {
   "cell_type": "code",
   "execution_count": 24,
   "id": "7fedab31-5034-422a-9431-60f48207a3a5",
   "metadata": {},
   "outputs": [
    {
     "data": {
      "text/html": [
       "<div>\n",
       "<style scoped>\n",
       "    .dataframe tbody tr th:only-of-type {\n",
       "        vertical-align: middle;\n",
       "    }\n",
       "\n",
       "    .dataframe tbody tr th {\n",
       "        vertical-align: top;\n",
       "    }\n",
       "\n",
       "    .dataframe thead th {\n",
       "        text-align: right;\n",
       "    }\n",
       "</style>\n",
       "<table border=\"1\" class=\"dataframe\">\n",
       "  <thead>\n",
       "    <tr style=\"text-align: right;\">\n",
       "      <th></th>\n",
       "      <th>(no genres listed)</th>\n",
       "      <th>Action</th>\n",
       "      <th>Adventure</th>\n",
       "      <th>Animation</th>\n",
       "      <th>Children</th>\n",
       "      <th>Comedy</th>\n",
       "      <th>Crime</th>\n",
       "      <th>Documentary</th>\n",
       "      <th>Drama</th>\n",
       "      <th>Fantasy</th>\n",
       "      <th>...</th>\n",
       "      <th>tag_wound</th>\n",
       "      <th>tag_writer</th>\n",
       "      <th>tag_writing</th>\n",
       "      <th>tag_written</th>\n",
       "      <th>tag_year</th>\n",
       "      <th>tag_york</th>\n",
       "      <th>tag_young</th>\n",
       "      <th>tag_younger</th>\n",
       "      <th>tag_youth</th>\n",
       "      <th>tag_zombie</th>\n",
       "    </tr>\n",
       "  </thead>\n",
       "  <tbody>\n",
       "    <tr>\n",
       "      <th>0</th>\n",
       "      <td>0</td>\n",
       "      <td>0</td>\n",
       "      <td>1</td>\n",
       "      <td>1</td>\n",
       "      <td>1</td>\n",
       "      <td>1</td>\n",
       "      <td>0</td>\n",
       "      <td>0</td>\n",
       "      <td>0</td>\n",
       "      <td>1</td>\n",
       "      <td>...</td>\n",
       "      <td>0.0</td>\n",
       "      <td>0.0</td>\n",
       "      <td>0.0</td>\n",
       "      <td>0.000000</td>\n",
       "      <td>0.0</td>\n",
       "      <td>0.0</td>\n",
       "      <td>0.000000</td>\n",
       "      <td>0.0</td>\n",
       "      <td>0.0</td>\n",
       "      <td>0.0</td>\n",
       "    </tr>\n",
       "    <tr>\n",
       "      <th>1</th>\n",
       "      <td>0</td>\n",
       "      <td>0</td>\n",
       "      <td>1</td>\n",
       "      <td>0</td>\n",
       "      <td>1</td>\n",
       "      <td>0</td>\n",
       "      <td>0</td>\n",
       "      <td>0</td>\n",
       "      <td>0</td>\n",
       "      <td>1</td>\n",
       "      <td>...</td>\n",
       "      <td>0.0</td>\n",
       "      <td>0.0</td>\n",
       "      <td>0.0</td>\n",
       "      <td>0.034604</td>\n",
       "      <td>0.0</td>\n",
       "      <td>0.0</td>\n",
       "      <td>0.034178</td>\n",
       "      <td>0.0</td>\n",
       "      <td>0.0</td>\n",
       "      <td>0.0</td>\n",
       "    </tr>\n",
       "    <tr>\n",
       "      <th>2</th>\n",
       "      <td>0</td>\n",
       "      <td>0</td>\n",
       "      <td>0</td>\n",
       "      <td>0</td>\n",
       "      <td>0</td>\n",
       "      <td>1</td>\n",
       "      <td>0</td>\n",
       "      <td>0</td>\n",
       "      <td>0</td>\n",
       "      <td>0</td>\n",
       "      <td>...</td>\n",
       "      <td>0.0</td>\n",
       "      <td>0.0</td>\n",
       "      <td>0.0</td>\n",
       "      <td>0.000000</td>\n",
       "      <td>0.0</td>\n",
       "      <td>0.0</td>\n",
       "      <td>0.000000</td>\n",
       "      <td>0.0</td>\n",
       "      <td>0.0</td>\n",
       "      <td>0.0</td>\n",
       "    </tr>\n",
       "    <tr>\n",
       "      <th>3</th>\n",
       "      <td>0</td>\n",
       "      <td>0</td>\n",
       "      <td>0</td>\n",
       "      <td>0</td>\n",
       "      <td>0</td>\n",
       "      <td>1</td>\n",
       "      <td>0</td>\n",
       "      <td>0</td>\n",
       "      <td>1</td>\n",
       "      <td>0</td>\n",
       "      <td>...</td>\n",
       "      <td>0.0</td>\n",
       "      <td>0.0</td>\n",
       "      <td>0.0</td>\n",
       "      <td>0.000000</td>\n",
       "      <td>0.0</td>\n",
       "      <td>0.0</td>\n",
       "      <td>0.000000</td>\n",
       "      <td>0.0</td>\n",
       "      <td>0.0</td>\n",
       "      <td>0.0</td>\n",
       "    </tr>\n",
       "    <tr>\n",
       "      <th>4</th>\n",
       "      <td>0</td>\n",
       "      <td>0</td>\n",
       "      <td>0</td>\n",
       "      <td>0</td>\n",
       "      <td>0</td>\n",
       "      <td>1</td>\n",
       "      <td>0</td>\n",
       "      <td>0</td>\n",
       "      <td>0</td>\n",
       "      <td>0</td>\n",
       "      <td>...</td>\n",
       "      <td>0.0</td>\n",
       "      <td>0.0</td>\n",
       "      <td>0.0</td>\n",
       "      <td>0.000000</td>\n",
       "      <td>0.0</td>\n",
       "      <td>0.0</td>\n",
       "      <td>0.000000</td>\n",
       "      <td>0.0</td>\n",
       "      <td>0.0</td>\n",
       "      <td>0.0</td>\n",
       "    </tr>\n",
       "  </tbody>\n",
       "</table>\n",
       "<p>5 rows × 1020 columns</p>\n",
       "</div>"
      ],
      "text/plain": [
       "   (no genres listed)  Action  Adventure  Animation  Children  Comedy  Crime  \\\n",
       "0                   0       0          1          1         1       1      0   \n",
       "1                   0       0          1          0         1       0      0   \n",
       "2                   0       0          0          0         0       1      0   \n",
       "3                   0       0          0          0         0       1      0   \n",
       "4                   0       0          0          0         0       1      0   \n",
       "\n",
       "   Documentary  Drama  Fantasy  ...  tag_wound  tag_writer  tag_writing  \\\n",
       "0            0      0        1  ...        0.0         0.0          0.0   \n",
       "1            0      0        1  ...        0.0         0.0          0.0   \n",
       "2            0      0        0  ...        0.0         0.0          0.0   \n",
       "3            0      1        0  ...        0.0         0.0          0.0   \n",
       "4            0      0        0  ...        0.0         0.0          0.0   \n",
       "\n",
       "   tag_written  tag_year  tag_york  tag_young  tag_younger  tag_youth  \\\n",
       "0     0.000000       0.0       0.0   0.000000          0.0        0.0   \n",
       "1     0.034604       0.0       0.0   0.034178          0.0        0.0   \n",
       "2     0.000000       0.0       0.0   0.000000          0.0        0.0   \n",
       "3     0.000000       0.0       0.0   0.000000          0.0        0.0   \n",
       "4     0.000000       0.0       0.0   0.000000          0.0        0.0   \n",
       "\n",
       "   tag_zombie  \n",
       "0         0.0  \n",
       "1         0.0  \n",
       "2         0.0  \n",
       "3         0.0  \n",
       "4         0.0  \n",
       "\n",
       "[5 rows x 1020 columns]"
      ]
     },
     "execution_count": 24,
     "metadata": {},
     "output_type": "execute_result"
    }
   ],
   "source": [
    "movies_features.head()"
   ]
  },
  {
   "cell_type": "code",
   "execution_count": 26,
   "id": "1934bbca-0a98-4a93-a83e-663bfd25c790",
   "metadata": {},
   "outputs": [
    {
     "name": "stdout",
     "output_type": "stream",
     "text": [
      "Sparsity: 0.0012 (0.12%)\n"
     ]
    }
   ],
   "source": [
    "# Calculate sparsity\n",
    "sparsity = (num_ratings / (num_users * num_movies))\n",
    "print(f\"Sparsity: {sparsity:.4f} ({sparsity*100:.2f}%)\")"
   ]
  },
  {
   "cell_type": "code",
   "execution_count": 27,
   "id": "c8d5a352-65ed-42d2-88c5-90badb4bd72d",
   "metadata": {},
   "outputs": [],
   "source": [
    "class MovieLensDataset(Dataset):\n",
    "    def __init__(self, users, movies, ratings, movie_features):\n",
    "        self.users = np.array(users)\n",
    "        self.movies = np.array(movies)\n",
    "        self.ratings = np.array(ratings, dtype=np.float32)\n",
    "        self.movie_features = movie_features  # keep as DataFrame, don’t convert to tensor yet, as it will be LARGE\n",
    "\n",
    "    def __len__(self):\n",
    "        return len(self.users)\n",
    "\n",
    "    def __getitem__(self, i):\n",
    "        '''\n",
    "        These will be loaded in batches, so easier to handle large tensors\n",
    "        '''\n",
    "        user = torch.tensor(self.users[i], dtype=torch.long)\n",
    "        movie = torch.tensor(self.movies[i], dtype=torch.long)\n",
    "        rating = torch.tensor(self.ratings[i], dtype=torch.float)\n",
    "\n",
    "        # convert movie features to tensor for this sample only\n",
    "        movie_feat = torch.tensor(self.movie_features.loc[movie.item()].values, dtype=torch.float32)\n",
    "\n",
    "        return {\n",
    "            \"users\": user,\n",
    "            \"movies\": movie,\n",
    "            \"ratings\": rating,\n",
    "            \"movie_features\": movie_feat,\n",
    "        }\n"
   ]
  },
  {
   "cell_type": "code",
   "execution_count": 28,
   "id": "a1dfcae9-a87e-4f97-b2a1-4435385f9f42",
   "metadata": {},
   "outputs": [],
   "source": [
    "train_df, val_df = train_test_split(ratings_df, test_size=0.2, stratify=ratings_df.rating.values)"
   ]
  },
  {
   "cell_type": "code",
   "execution_count": 29,
   "id": "81ed7b83-bd0d-4c35-83dc-428be978c556",
   "metadata": {},
   "outputs": [],
   "source": [
    "BATCH_SIZE = 16\n",
    "\n",
    "train_dataset = MovieLensDataset(\n",
    "    users=train_df[\"user_idx\"].values,\n",
    "    movies=train_df[\"movie_idx\"].values,\n",
    "    ratings=train_df[\"rating\"].values,\n",
    "    movie_features=movies_features\n",
    ")\n",
    "val_dataset = MovieLensDataset(\n",
    "    users=val_df[\"user_idx\"].values,\n",
    "    movies=val_df[\"movie_idx\"].values,\n",
    "    ratings=val_df[\"rating\"].values,\n",
    "    movie_features=movies_features\n",
    ")\n",
    "\n",
    "\n",
    "train_loader = DataLoader(train_dataset, batch_size=BATCH_SIZE, shuffle=True, num_workers=0)\n",
    "val_loader = DataLoader(val_dataset, batch_size=BATCH_SIZE, shuffle=False, num_workers=0)\n"
   ]
  },
  {
   "cell_type": "code",
   "execution_count": 31,
   "id": "5f79bbe3-cfb3-41fd-8b96-73b2aef68184",
   "metadata": {},
   "outputs": [],
   "source": [
    "# 7️⃣ Update model to accept movie features\n",
    "class RecommendationSystemModel(nn.Module):\n",
    "    def __init__(self, num_users, num_movies, num_movie_features,\n",
    "                 embedding_size=64, hidden_dim=128, dropout_rate=0.5):\n",
    "        super(RecommendationSystemModel, self).__init__()\n",
    "\n",
    "        # self.num_users = num_users\n",
    "        # self.num_movies = num_movies\n",
    "        # self.num_movie_features = num_movie_features\n",
    "        # self.embedding_size = embedding_size\n",
    "        # self.hidden_dim = hidden_dim\n",
    "\n",
    "\n",
    "\n",
    "        self.user_embedding = nn.Embedding(num_users, embedding_size)\n",
    "        self.movie_embedding = nn.Embedding(num_movies, embedding_size)\n",
    "\n",
    "         # Dense projection for movie features (genres)\n",
    "        self.genre_fc = nn.Linear(num_movie_features, embedding_size)\n",
    "        \n",
    "        \n",
    "        self.fc1 = nn.Linear(3 * embedding_size, hidden_dim)\n",
    "        self.fc2 = nn.Linear(hidden_dim, hidden_dim // 2)\n",
    "        self.fc3 = nn.Linear(hidden_dim // 2, 1)\n",
    "\n",
    "        \n",
    "        self.dropout = nn.Dropout(dropout_rate)\n",
    "        self.relu = nn.ReLU()\n",
    "\n",
    "    def forward(self, users, movies, movie_features):\n",
    "        u = self.user_embedding(users)\n",
    "        m = self.movie_embedding(movies)\n",
    "        \n",
    "        genre_embedded = self.relu(self.genre_fc(movie_features))\n",
    "        x = torch.cat([u, m, genre_embedded], dim=1)\n",
    "\n",
    "        \n",
    "        x = self.relu(self.fc1(x))\n",
    "        x = self.dropout(x)\n",
    "        x = self.relu(self.fc2(x))\n",
    "        x = self.dropout(x)\n",
    "        out = self.fc3(x)\n",
    "        return out"
   ]
  },
  {
   "cell_type": "markdown",
   "id": "6f2178cd-a52c-426d-92e0-843545e644d8",
   "metadata": {},
   "source": [
    "### Instantiate model"
   ]
  },
  {
   "cell_type": "code",
   "execution_count": 32,
   "id": "4af5f2df-d114-44de-b601-6d7c8c4746eb",
   "metadata": {},
   "outputs": [],
   "source": [
    "# Instantiate model and send to device (CPU/GPU)\n",
    "model = RecommendationSystemModel(\n",
    "    num_users=num_users,\n",
    "    num_movies=num_movies,\n",
    "    num_movie_features=num_movie_features,\n",
    "    embedding_size = 64,\n",
    "    hidden_dim = 128,\n",
    "    dropout_rate = 0.1\n",
    ").to(device)\n",
    "\n",
    "criterion = nn.MSELoss()\n",
    "optimizer = optim.Adam(model.parameters(), lr=5e-4, weight_decay=1e-5)\n",
    "scheduler = optim.lr_scheduler.ReduceLROnPlateau(optimizer, mode=\"min\", factor=0.5, patience=3)\n"
   ]
  },
  {
   "cell_type": "code",
   "execution_count": null,
   "id": "60be09e2-3e80-49a1-ad11-cbc0ceb82f26",
   "metadata": {},
   "outputs": [],
   "source": [
    "num_epochs = 10\n",
    "\n",
    "for epoch in range(num_epochs):\n",
    "    model.train()\n",
    "    running_loss = 0.0\n",
    "\n",
    "    for batch in train_loader:\n",
    "        users = batch[\"users\"].to(device)\n",
    "        movies = batch[\"movies\"].to(device)\n",
    "        ratings = batch[\"ratings\"].to(device)\n",
    "        movie_features_batch = batch.get(\"movie_features\")\n",
    "        if movie_features_batch is not None:\n",
    "            movie_features_batch = movie_features_batch.to(device)\n",
    "\n",
    "        optimizer.zero_grad()\n",
    "        preds = model(users, movies, movie_features_batch)\n",
    "        loss = criterion(preds.squeeze(), ratings)\n",
    "        loss.backward()\n",
    "        optimizer.step()\n",
    "        running_loss += loss.item() * users.size(0)\n",
    "\n",
    "    train_loss = running_loss / len(train_loader.dataset)\n",
    "\n",
    "    # Validation\n",
    "    model.eval()\n",
    "    val_loss = 0.0\n",
    "    with torch.no_grad():\n",
    "        for batch in val_loader:\n",
    "            users = batch[\"users\"].to(device)\n",
    "            movies = batch[\"movies\"].to(device)\n",
    "            ratings = batch[\"ratings\"].to(device)\n",
    "            movie_features_batch = batch.get(\"movie_features\")\n",
    "            if movie_features_batch is not None:\n",
    "                movie_features_batch = movie_features_batch.to(device)\n",
    "\n",
    "            preds = model(users, movies, movie_features_batch)\n",
    "            loss = criterion(preds.squeeze(), ratings)\n",
    "            val_loss += loss.item() * users.size(0)\n",
    "\n",
    "    val_loss = val_loss / len(val_loader.dataset)\n",
    "    scheduler.step(val_loss)\n",
    "\n",
    "    print(f\"Epoch [{epoch+1}/{num_epochs}] | Train Loss: {train_loss:.4f} | Val Loss: {val_loss:.4f}\")"
   ]
  },
  {
   "cell_type": "code",
   "execution_count": null,
   "id": "f8c0a22d-ca9c-4d20-ba08-a8d290181980",
   "metadata": {},
   "outputs": [],
   "source": []
  }
 ],
 "metadata": {
  "kernelspec": {
   "display_name": "Python 3 (ipykernel)",
   "language": "python",
   "name": "python3"
  },
  "language_info": {
   "codemirror_mode": {
    "name": "ipython",
    "version": 3
   },
   "file_extension": ".py",
   "mimetype": "text/x-python",
   "name": "python",
   "nbconvert_exporter": "python",
   "pygments_lexer": "ipython3",
   "version": "3.13.5"
  }
 },
 "nbformat": 4,
 "nbformat_minor": 5
}

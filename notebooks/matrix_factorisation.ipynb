{
 "cells": [
  {
   "cell_type": "code",
   "execution_count": 1,
   "id": "c06d8a6e-80bb-4f09-82fb-81bcae5005a5",
   "metadata": {},
   "outputs": [
    {
     "name": "stderr",
     "output_type": "stream",
     "text": [
      "/Users/neelb94/Documents/DS_Projects/ml-100k/venv/lib/python3.9/site-packages/lightfm/_lightfm_fast.py:9: UserWarning: LightFM was compiled without OpenMP support. Only a single thread will be used.\n",
      "  warnings.warn(\n"
     ]
    }
   ],
   "source": [
    "import os\n",
    "import random\n",
    "import joblib             # pip install joblib (optional, used to save encoders)\n",
    "import pandas as pd\n",
    "import numpy as np\n",
    "import torch\n",
    "import torch.nn as nn\n",
    "import torch.optim as optim\n",
    "from torch.utils.data import Dataset, DataLoader\n",
    "from sklearn import preprocessing\n",
    "from sklearn.model_selection import train_test_split\n",
    "from lightfm import LightFM\n",
    "from lightfm.data import Dataset\n"
   ]
  },
  {
   "cell_type": "markdown",
   "id": "fa3a8c42-b51a-42a7-8450-f03e2109f33b",
   "metadata": {},
   "source": [
    "### Load raw datasets and prepare as dataframes"
   ]
  },
  {
   "cell_type": "code",
   "execution_count": 2,
   "id": "b62e1dc5-5bf1-4642-b0ea-9cba6c001349",
   "metadata": {},
   "outputs": [],
   "source": [
    "data_source = 'full' # full or small\n",
    "\n",
    "if data_source == 'small':\n",
    "    root = \"../data/raw/ml-latest-small/\"\n",
    "else:\n",
    "    root = \"../data/raw/ml-latest/\"\n"
   ]
  },
  {
   "cell_type": "code",
   "execution_count": 3,
   "id": "ea1cdf09-43c2-4d4c-b547-d6a7a9b59a3d",
   "metadata": {},
   "outputs": [
    {
     "data": {
      "text/html": [
       "<div>\n",
       "<style scoped>\n",
       "    .dataframe tbody tr th:only-of-type {\n",
       "        vertical-align: middle;\n",
       "    }\n",
       "\n",
       "    .dataframe tbody tr th {\n",
       "        vertical-align: top;\n",
       "    }\n",
       "\n",
       "    .dataframe thead th {\n",
       "        text-align: right;\n",
       "    }\n",
       "</style>\n",
       "<table border=\"1\" class=\"dataframe\">\n",
       "  <thead>\n",
       "    <tr style=\"text-align: right;\">\n",
       "      <th></th>\n",
       "      <th>userId</th>\n",
       "      <th>movieId</th>\n",
       "      <th>rating</th>\n",
       "      <th>timestamp</th>\n",
       "    </tr>\n",
       "  </thead>\n",
       "  <tbody>\n",
       "    <tr>\n",
       "      <th>0</th>\n",
       "      <td>1</td>\n",
       "      <td>1</td>\n",
       "      <td>4.0</td>\n",
       "      <td>1225734739</td>\n",
       "    </tr>\n",
       "    <tr>\n",
       "      <th>1</th>\n",
       "      <td>1</td>\n",
       "      <td>110</td>\n",
       "      <td>4.0</td>\n",
       "      <td>1225865086</td>\n",
       "    </tr>\n",
       "    <tr>\n",
       "      <th>2</th>\n",
       "      <td>1</td>\n",
       "      <td>158</td>\n",
       "      <td>4.0</td>\n",
       "      <td>1225733503</td>\n",
       "    </tr>\n",
       "    <tr>\n",
       "      <th>3</th>\n",
       "      <td>1</td>\n",
       "      <td>260</td>\n",
       "      <td>4.5</td>\n",
       "      <td>1225735204</td>\n",
       "    </tr>\n",
       "    <tr>\n",
       "      <th>4</th>\n",
       "      <td>1</td>\n",
       "      <td>356</td>\n",
       "      <td>5.0</td>\n",
       "      <td>1225735119</td>\n",
       "    </tr>\n",
       "  </tbody>\n",
       "</table>\n",
       "</div>"
      ],
      "text/plain": [
       "   userId  movieId  rating   timestamp\n",
       "0       1        1     4.0  1225734739\n",
       "1       1      110     4.0  1225865086\n",
       "2       1      158     4.0  1225733503\n",
       "3       1      260     4.5  1225735204\n",
       "4       1      356     5.0  1225735119"
      ]
     },
     "execution_count": 3,
     "metadata": {},
     "output_type": "execute_result"
    }
   ],
   "source": [
    "ratings_df = pd.read_csv(f\"{root}ratings.csv\")\n",
    "ratings_df.head()"
   ]
  },
  {
   "cell_type": "code",
   "execution_count": 4,
   "id": "4c123043-cc13-4cf6-9937-0dd2a517a5b6",
   "metadata": {},
   "outputs": [],
   "source": [
    "movies_df = pd.read_csv(f\"{root}movies.csv\")\n",
    "# Encode movie genres as features\n",
    "movies_df['genres'] = movies_df['genres'].str.split('|')\n",
    "#movie_genres = [(row['movieId'], row['genres']) for _, row in movies_df.iterrows()]\n",
    "\n"
   ]
  },
  {
   "cell_type": "code",
   "execution_count": 5,
   "id": "f27d8819-1d7a-46bd-bc0c-4d4a529b1331",
   "metadata": {},
   "outputs": [],
   "source": [
    "movies_df_long = movies_df[['movieId', 'genres']].explode('genres', ignore_index=True)"
   ]
  },
  {
   "cell_type": "code",
   "execution_count": 6,
   "id": "3285690d-af0f-4e36-a6e6-077cb7ce0381",
   "metadata": {},
   "outputs": [
    {
     "data": {
      "text/html": [
       "<div>\n",
       "<style scoped>\n",
       "    .dataframe tbody tr th:only-of-type {\n",
       "        vertical-align: middle;\n",
       "    }\n",
       "\n",
       "    .dataframe tbody tr th {\n",
       "        vertical-align: top;\n",
       "    }\n",
       "\n",
       "    .dataframe thead th {\n",
       "        text-align: right;\n",
       "    }\n",
       "</style>\n",
       "<table border=\"1\" class=\"dataframe\">\n",
       "  <thead>\n",
       "    <tr style=\"text-align: right;\">\n",
       "      <th></th>\n",
       "      <th>movieId</th>\n",
       "      <th>genres</th>\n",
       "    </tr>\n",
       "  </thead>\n",
       "  <tbody>\n",
       "    <tr>\n",
       "      <th>0</th>\n",
       "      <td>1</td>\n",
       "      <td>Adventure</td>\n",
       "    </tr>\n",
       "    <tr>\n",
       "      <th>1</th>\n",
       "      <td>1</td>\n",
       "      <td>Animation</td>\n",
       "    </tr>\n",
       "    <tr>\n",
       "      <th>2</th>\n",
       "      <td>1</td>\n",
       "      <td>Children</td>\n",
       "    </tr>\n",
       "    <tr>\n",
       "      <th>3</th>\n",
       "      <td>1</td>\n",
       "      <td>Comedy</td>\n",
       "    </tr>\n",
       "    <tr>\n",
       "      <th>4</th>\n",
       "      <td>1</td>\n",
       "      <td>Fantasy</td>\n",
       "    </tr>\n",
       "    <tr>\n",
       "      <th>...</th>\n",
       "      <td>...</td>\n",
       "      <td>...</td>\n",
       "    </tr>\n",
       "    <tr>\n",
       "      <th>152283</th>\n",
       "      <td>288971</td>\n",
       "      <td>Horror</td>\n",
       "    </tr>\n",
       "    <tr>\n",
       "      <th>152284</th>\n",
       "      <td>288975</td>\n",
       "      <td>Documentary</td>\n",
       "    </tr>\n",
       "    <tr>\n",
       "      <th>152285</th>\n",
       "      <td>288977</td>\n",
       "      <td>Crime</td>\n",
       "    </tr>\n",
       "    <tr>\n",
       "      <th>152286</th>\n",
       "      <td>288977</td>\n",
       "      <td>Thriller</td>\n",
       "    </tr>\n",
       "    <tr>\n",
       "      <th>152287</th>\n",
       "      <td>288983</td>\n",
       "      <td>Documentary</td>\n",
       "    </tr>\n",
       "  </tbody>\n",
       "</table>\n",
       "<p>152288 rows × 2 columns</p>\n",
       "</div>"
      ],
      "text/plain": [
       "        movieId       genres\n",
       "0             1    Adventure\n",
       "1             1    Animation\n",
       "2             1     Children\n",
       "3             1       Comedy\n",
       "4             1      Fantasy\n",
       "...         ...          ...\n",
       "152283   288971       Horror\n",
       "152284   288975  Documentary\n",
       "152285   288977        Crime\n",
       "152286   288977     Thriller\n",
       "152287   288983  Documentary\n",
       "\n",
       "[152288 rows x 2 columns]"
      ]
     },
     "execution_count": 6,
     "metadata": {},
     "output_type": "execute_result"
    }
   ],
   "source": [
    "movies_df_long"
   ]
  },
  {
   "cell_type": "code",
   "execution_count": 7,
   "id": "d9b78977-2cac-4197-b0e9-38944d2e2200",
   "metadata": {},
   "outputs": [
    {
     "data": {
      "text/html": [
       "<div>\n",
       "<style scoped>\n",
       "    .dataframe tbody tr th:only-of-type {\n",
       "        vertical-align: middle;\n",
       "    }\n",
       "\n",
       "    .dataframe tbody tr th {\n",
       "        vertical-align: top;\n",
       "    }\n",
       "\n",
       "    .dataframe thead th {\n",
       "        text-align: right;\n",
       "    }\n",
       "</style>\n",
       "<table border=\"1\" class=\"dataframe\">\n",
       "  <thead>\n",
       "    <tr style=\"text-align: right;\">\n",
       "      <th></th>\n",
       "      <th>userId</th>\n",
       "      <th>movieId</th>\n",
       "      <th>tag</th>\n",
       "      <th>timestamp</th>\n",
       "    </tr>\n",
       "  </thead>\n",
       "  <tbody>\n",
       "    <tr>\n",
       "      <th>0</th>\n",
       "      <td>10</td>\n",
       "      <td>260</td>\n",
       "      <td>good vs evil</td>\n",
       "      <td>1430666558</td>\n",
       "    </tr>\n",
       "    <tr>\n",
       "      <th>1</th>\n",
       "      <td>10</td>\n",
       "      <td>260</td>\n",
       "      <td>Harrison Ford</td>\n",
       "      <td>1430666505</td>\n",
       "    </tr>\n",
       "    <tr>\n",
       "      <th>2</th>\n",
       "      <td>10</td>\n",
       "      <td>260</td>\n",
       "      <td>sci-fi</td>\n",
       "      <td>1430666538</td>\n",
       "    </tr>\n",
       "    <tr>\n",
       "      <th>3</th>\n",
       "      <td>14</td>\n",
       "      <td>1221</td>\n",
       "      <td>Al Pacino</td>\n",
       "      <td>1311600756</td>\n",
       "    </tr>\n",
       "    <tr>\n",
       "      <th>4</th>\n",
       "      <td>14</td>\n",
       "      <td>1221</td>\n",
       "      <td>mafia</td>\n",
       "      <td>1311600746</td>\n",
       "    </tr>\n",
       "  </tbody>\n",
       "</table>\n",
       "</div>"
      ],
      "text/plain": [
       "   userId  movieId            tag   timestamp\n",
       "0      10      260   good vs evil  1430666558\n",
       "1      10      260  Harrison Ford  1430666505\n",
       "2      10      260         sci-fi  1430666538\n",
       "3      14     1221      Al Pacino  1311600756\n",
       "4      14     1221          mafia  1311600746"
      ]
     },
     "execution_count": 7,
     "metadata": {},
     "output_type": "execute_result"
    }
   ],
   "source": [
    "tags_df = pd.read_csv(f\"{root}tags.csv\")\n",
    "tags_df.head()"
   ]
  },
  {
   "cell_type": "code",
   "execution_count": null,
   "id": "c1bf5899-6fe1-46b3-b02a-43b550830690",
   "metadata": {},
   "outputs": [],
   "source": []
  },
  {
   "cell_type": "code",
   "execution_count": 8,
   "id": "53f5f459-76ec-4468-81e9-e33cec5b1cdb",
   "metadata": {},
   "outputs": [],
   "source": [
    "tags_df = tags_df[['movieId', 'tag']]"
   ]
  },
  {
   "cell_type": "code",
   "execution_count": 9,
   "id": "f46701c5-0cf7-40c0-b211-5e8b061a7681",
   "metadata": {},
   "outputs": [],
   "source": [
    "tags_df[\"tag\"] = (\n",
    "    tags_df[\"tag\"]\n",
    "    .astype(str)\n",
    "    .str.lower()\n",
    "    .str.strip()\n",
    ")\n"
   ]
  },
  {
   "cell_type": "code",
   "execution_count": 10,
   "id": "3ee6d274-9f9b-433e-8678-8cacdecd6cb9",
   "metadata": {},
   "outputs": [],
   "source": [
    "tags_df = tags_df.dropna(subset=[\"tag\"])\n",
    "tags_df = tags_df.drop_duplicates()\n"
   ]
  },
  {
   "cell_type": "code",
   "execution_count": 11,
   "id": "e375e33d-9004-4436-b3c9-d19e07ed7306",
   "metadata": {},
   "outputs": [
    {
     "data": {
      "text/plain": [
       "143264"
      ]
     },
     "execution_count": 11,
     "metadata": {},
     "output_type": "execute_result"
    }
   ],
   "source": [
    "len(set(tags_df['tag']))"
   ]
  },
  {
   "cell_type": "code",
   "execution_count": 12,
   "id": "610a03d7-c3a4-4deb-a09c-ccb86f368ba5",
   "metadata": {},
   "outputs": [],
   "source": [
    "# Rename columns to have the same name\n",
    "df1 = tags_df.rename(columns={'tag': 'label'})\n",
    "df2 = movies_df_long.rename(columns={'genres': 'label'})\n",
    "\n",
    "# Concatenate them vertically\n",
    "movie_full_df = pd.concat([df1, df2], ignore_index=True)"
   ]
  },
  {
   "cell_type": "code",
   "execution_count": 13,
   "id": "b173c646-13e5-4098-bb05-62ef0cbf5ccf",
   "metadata": {},
   "outputs": [
    {
     "data": {
      "text/html": [
       "<div>\n",
       "<style scoped>\n",
       "    .dataframe tbody tr th:only-of-type {\n",
       "        vertical-align: middle;\n",
       "    }\n",
       "\n",
       "    .dataframe tbody tr th {\n",
       "        vertical-align: top;\n",
       "    }\n",
       "\n",
       "    .dataframe thead th {\n",
       "        text-align: right;\n",
       "    }\n",
       "</style>\n",
       "<table border=\"1\" class=\"dataframe\">\n",
       "  <thead>\n",
       "    <tr style=\"text-align: right;\">\n",
       "      <th></th>\n",
       "      <th>movieId</th>\n",
       "      <th>label</th>\n",
       "    </tr>\n",
       "  </thead>\n",
       "  <tbody>\n",
       "    <tr>\n",
       "      <th>0</th>\n",
       "      <td>260</td>\n",
       "      <td>good vs evil</td>\n",
       "    </tr>\n",
       "    <tr>\n",
       "      <th>1</th>\n",
       "      <td>260</td>\n",
       "      <td>harrison ford</td>\n",
       "    </tr>\n",
       "    <tr>\n",
       "      <th>2</th>\n",
       "      <td>260</td>\n",
       "      <td>sci-fi</td>\n",
       "    </tr>\n",
       "    <tr>\n",
       "      <th>3</th>\n",
       "      <td>1221</td>\n",
       "      <td>al pacino</td>\n",
       "    </tr>\n",
       "    <tr>\n",
       "      <th>4</th>\n",
       "      <td>1221</td>\n",
       "      <td>mafia</td>\n",
       "    </tr>\n",
       "    <tr>\n",
       "      <th>...</th>\n",
       "      <td>...</td>\n",
       "      <td>...</td>\n",
       "    </tr>\n",
       "    <tr>\n",
       "      <th>1294901</th>\n",
       "      <td>288971</td>\n",
       "      <td>Horror</td>\n",
       "    </tr>\n",
       "    <tr>\n",
       "      <th>1294902</th>\n",
       "      <td>288975</td>\n",
       "      <td>Documentary</td>\n",
       "    </tr>\n",
       "    <tr>\n",
       "      <th>1294903</th>\n",
       "      <td>288977</td>\n",
       "      <td>Crime</td>\n",
       "    </tr>\n",
       "    <tr>\n",
       "      <th>1294904</th>\n",
       "      <td>288977</td>\n",
       "      <td>Thriller</td>\n",
       "    </tr>\n",
       "    <tr>\n",
       "      <th>1294905</th>\n",
       "      <td>288983</td>\n",
       "      <td>Documentary</td>\n",
       "    </tr>\n",
       "  </tbody>\n",
       "</table>\n",
       "<p>1294906 rows × 2 columns</p>\n",
       "</div>"
      ],
      "text/plain": [
       "         movieId          label\n",
       "0            260   good vs evil\n",
       "1            260  harrison ford\n",
       "2            260         sci-fi\n",
       "3           1221      al pacino\n",
       "4           1221          mafia\n",
       "...          ...            ...\n",
       "1294901   288971         Horror\n",
       "1294902   288975    Documentary\n",
       "1294903   288977          Crime\n",
       "1294904   288977       Thriller\n",
       "1294905   288983    Documentary\n",
       "\n",
       "[1294906 rows x 2 columns]"
      ]
     },
     "execution_count": 13,
     "metadata": {},
     "output_type": "execute_result"
    }
   ],
   "source": [
    "movie_full_df"
   ]
  },
  {
   "cell_type": "code",
   "execution_count": 14,
   "id": "3f28eede-3310-4381-8bbe-c629c69ec851",
   "metadata": {},
   "outputs": [
    {
     "name": "stdout",
     "output_type": "stream",
     "text": [
      "(1294906, 2)\n",
      "(798606, 2)\n"
     ]
    }
   ],
   "source": [
    "print(movie_full_df.shape)\n",
    "counts = movie_full_df['label'].value_counts()\n",
    "common_labels = counts[counts > 100].index\n",
    "movie_full_df = movie_full_df[movie_full_df['label'].isin(common_labels)]\n",
    "print(movie_full_df.shape)"
   ]
  },
  {
   "cell_type": "code",
   "execution_count": 15,
   "id": "57af6649-6e5b-45fb-9bde-5ab6b10191f6",
   "metadata": {},
   "outputs": [],
   "source": [
    "movie_lists_df = (\n",
    "    movie_full_df\n",
    "    .groupby('movieId')['label']\n",
    "    .apply(list)\n",
    "    .reset_index()\n",
    ")\n"
   ]
  },
  {
   "cell_type": "code",
   "execution_count": 16,
   "id": "2dad90a3-0a9b-4d66-8200-1e3a2e05c28e",
   "metadata": {},
   "outputs": [],
   "source": [
    "# Initialize LightFM dataset\n",
    "dataset = Dataset()\n",
    "\n",
    "# Get unique users, items, and genres\n",
    "unique_users = ratings_df['userId'].unique()\n",
    "unique_movies = movies_df['movieId'].unique()\n",
    "unique_tags = movie_full_df['label'].unique()\n",
    "\n",
    "# Fit dataset schema\n",
    "dataset.fit(\n",
    "    users=unique_users,\n",
    "    items=unique_movies,\n",
    "    item_features=unique_tags\n",
    ")\n"
   ]
  },
  {
   "cell_type": "code",
   "execution_count": 17,
   "id": "f8c0a22d-ca9c-4d20-ba08-a8d290181980",
   "metadata": {},
   "outputs": [],
   "source": [
    "train_df, test_df = train_test_split(ratings_df, test_size=0.2, random_state=42)\n"
   ]
  },
  {
   "cell_type": "code",
   "execution_count": null,
   "id": "56ce8f4b-ecec-4874-a69c-b39e41358f6d",
   "metadata": {},
   "outputs": [],
   "source": [
    "min_interactions = 5\n",
    "user_counts = train_df['userId'].value_counts()\n",
    "item_counts = train_df['movieId'].value_counts()\n",
    "\n",
    "train_df = train_df[\n",
    "    train_df['userId'].isin(user_counts[user_counts >= min_interactions].index) &\n",
    "    train_df['movieId'].isin(item_counts[item_counts >= min_interactions].index)\n",
    "]\n"
   ]
  },
  {
   "cell_type": "code",
   "execution_count": 18,
   "id": "3adf05ba-04f3-4e53-9efc-1194fa6ae310",
   "metadata": {},
   "outputs": [],
   "source": [
    "train_interactions, _ = dataset.build_interactions(\n",
    "    ((row['userId'], row['movieId'], row['rating']) for _, row in train_df.iterrows())\n",
    ")\n",
    "\n",
    "test_interactions, _ = dataset.build_interactions(\n",
    "    ((row['userId'], row['movieId'], row['rating']) for _, row in test_df.iterrows())\n",
    ")\n"
   ]
  },
  {
   "cell_type": "code",
   "execution_count": 19,
   "id": "32bbd1dd-1f49-4e94-b811-9a19a00236a4",
   "metadata": {},
   "outputs": [],
   "source": [
    "item_features = dataset.build_item_features(\n",
    "    ((row['movieId'], row['label']) for _, row in movie_lists_df.iterrows())\n",
    ")\n"
   ]
  },
  {
   "cell_type": "code",
   "execution_count": null,
   "id": "06a055ff-7a79-41f0-9e03-1669bf8b0f10",
   "metadata": {},
   "outputs": [],
   "source": []
  },
  {
   "cell_type": "code",
   "execution_count": 22,
   "id": "a629ee7d-9a78-4fca-84f9-62fd6f76a26b",
   "metadata": {},
   "outputs": [
    {
     "data": {
      "text/plain": [
       "<lightfm.lightfm.LightFM at 0x327c62c10>"
      ]
     },
     "execution_count": 22,
     "metadata": {},
     "output_type": "execute_result"
    }
   ],
   "source": [
    "model = LightFM(loss='bpr', no_components=16, learning_rate=0.05)\n",
    "model.fit(\n",
    "    train_interactions,\n",
    "    item_features=item_features,\n",
    "    epochs=10,\n",
    "    num_threads=4\n",
    ")\n"
   ]
  },
  {
   "cell_type": "code",
   "execution_count": null,
   "id": "2abd99a4-dbb8-49a6-adeb-cd129dfaf0ae",
   "metadata": {},
   "outputs": [],
   "source": [
    "from lightfm.evaluation import precision_at_k, recall_at_k, auc_score\n",
    "\n",
    "# Compute metrics on test set\n",
    "precision = precision_at_k(model, test_interactions, item_features=item_features, k=5).mean()\n",
    "recall = recall_at_k(model, test_interactions, item_features=item_features, k=5).mean()\n",
    "auc = auc_score(model, test_interactions, item_features=item_features).mean()\n",
    "\n",
    "print(f'Precision@5: {precision:.3f}')\n",
    "print(f'Recall@5: {recall:.3f}')\n",
    "print(f'AUC: {auc:.3f}')\n"
   ]
  },
  {
   "cell_type": "code",
   "execution_count": 35,
   "id": "687a668f-0700-4857-9471-dc5b5ae6c997",
   "metadata": {},
   "outputs": [],
   "source": [
    "import numpy as np\n",
    "import matplotlib.pyplot as plt\n",
    "from lightfm.evaluation import precision_at_k, recall_at_k, auc_score\n",
    "\n",
    "def evaluate_lightfm(model, train_interactions, test_interactions, item_features=None, max_k=20):\n",
    "    \"\"\"\n",
    "    Evaluate a LightFM model and plot Precision@k and Recall@k curves.\n",
    "    \n",
    "    Parameters:\n",
    "        model: trained LightFM model\n",
    "        train_interactions: sparse matrix for training interactions\n",
    "        test_interactions: sparse matrix for test interactions\n",
    "        item_features: optional sparse matrix of item features\n",
    "        max_k: maximum k for evaluation\n",
    "    \"\"\"\n",
    "    ks = np.arange(1, max_k + 1)\n",
    "    precisions = []\n",
    "    recalls = []\n",
    "\n",
    "    for k in ks:\n",
    "        p = precision_at_k(model, test_interactions, train_interactions=train_interactions,\n",
    "                           item_features=item_features, k=k).mean()\n",
    "        r = recall_at_k(model, test_interactions, train_interactions=train_interactions,\n",
    "                        item_features=item_features, k=k).mean()\n",
    "        precisions.append(p)\n",
    "        recalls.append(r)\n",
    "    \n",
    "    auc = auc_score(model, test_interactions, train_interactions=train_interactions,\n",
    "                    item_features=item_features).mean()\n",
    "\n",
    "    print(f\"AUC: {auc:.3f}\")\n",
    "\n",
    "    # Plot Precision and Recall curves\n",
    "    plt.figure(figsize=(10,5))\n",
    "    plt.plot(ks, precisions, marker='o', label='Precision@k')\n",
    "    plt.plot(ks, recalls, marker='x', label='Recall@k')\n",
    "    plt.xlabel(\"k (top-k recommendations)\")\n",
    "    plt.ylabel(\"Score\")\n",
    "    plt.title(\"LightFM Evaluation\")\n",
    "    plt.xticks(ks)\n",
    "    plt.legend()\n",
    "    plt.grid(True)\n",
    "    plt.show()\n",
    "    \n",
    "    return ks, precisions, recalls, auc\n"
   ]
  },
  {
   "cell_type": "code",
   "execution_count": 37,
   "id": "ed3dc303-4d55-44d4-b1d0-639e5bf98fdb",
   "metadata": {},
   "outputs": [
    {
     "name": "stdout",
     "output_type": "stream",
     "text": [
      "AUC: 0.938\n"
     ]
    },
    {
     "data": {
      "image/png": "[encoded data removed]",
      "text/plain": [
       "<Figure size 1000x500 with 1 Axes>"
      ]
     },
     "metadata": {},
     "output_type": "display_data"
    }
   ],
   "source": [
    "ks, precisions, recalls, auc = evaluate_lightfm(\n",
    "    model,\n",
    "    train_interactions=train_interactions,\n",
    "    test_interactions=test_interactions,\n",
    "    item_features=item_features,\n",
    "    max_k=50\n",
    ")\n"
   ]
  },
  {
   "cell_type": "code",
   "execution_count": null,
   "id": "15957a84-4e1e-441d-871b-daa7f1119b59",
   "metadata": {},
   "outputs": [],
   "source": []
  }
 ],
 "metadata": {
  "kernelspec": {
   "display_name": "Python 3 (ipykernel)",
   "language": "python",
   "name": "python3"
  },
  "language_info": {
   "codemirror_mode": {
    "name": "ipython",
    "version": 3
   },
   "file_extension": ".py",
   "mimetype": "text/x-python",
   "name": "python",
   "nbconvert_exporter": "python",
   "pygments_lexer": "ipython3",
   "version": "3.9.6"
  }
 },
 "nbformat": 4,
 "nbformat_minor": 5
}
